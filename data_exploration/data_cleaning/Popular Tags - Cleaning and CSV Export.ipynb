{
 "metadata": {
  "language_info": {
   "codemirror_mode": {
    "name": "ipython",
    "version": 3
   },
   "file_extension": ".py",
   "mimetype": "text/x-python",
   "name": "python",
   "nbconvert_exporter": "python",
   "pygments_lexer": "ipython3",
   "version": "3.7.7-final"
  },
  "orig_nbformat": 2,
  "kernelspec": {
   "name": "pythondata",
   "display_name": "PythonData"
  }
 },
 "nbformat": 4,
 "nbformat_minor": 2,
 "cells": [
  {
   "cell_type": "code",
   "execution_count": 1,
   "metadata": {},
   "outputs": [],
   "source": [
    "# -- Popular Tags, Cleaning and CSV Export \n",
    "\n",
    "# Import dependencies\n",
    "\n",
    "import pandas as pd\n",
    "import numpy as np\n",
    "import matplotlib.pyplot as plt"
   ]
  },
  {
   "cell_type": "code",
   "execution_count": 2,
   "metadata": {},
   "outputs": [],
   "source": [
    "# Load steam_games.csv Kaggle data from main resources folder\n",
    "\n",
    "file_to_load = '../../resources/steam_games.csv'"
   ]
  },
  {
   "cell_type": "code",
   "execution_count": 3,
   "metadata": {},
   "outputs": [
    {
     "output_type": "execute_result",
     "data": {
      "text/plain": "                                                 url types  \\\n0    https://store.steampowered.com/app/379720/DOOM/   app   \n1  https://store.steampowered.com/app/578080/PLAY...   app   \n2  https://store.steampowered.com/app/637090/BATT...   app   \n3    https://store.steampowered.com/app/221100/DayZ/   app   \n4  https://store.steampowered.com/app/8500/EVE_On...   app   \n\n                            name  \\\n0                           DOOM   \n1  PLAYERUNKNOWN'S BATTLEGROUNDS   \n2                     BATTLETECH   \n3                           DayZ   \n4                     EVE Online   \n\n                                        desc_snippet  \\\n0  Now includes all three premium DLC packs (Unto...   \n1  PLAYERUNKNOWN'S BATTLEGROUNDS is a battle roya...   \n2  Take command of your own mercenary outfit of '...   \n3  The post-soviet country of Chernarus is struck...   \n4  EVE Online is a community-driven spaceship MMO...   \n\n                                      recent_reviews  \\\n0  Very Positive,(554),- 89% of the 554 user revi...   \n1  Mixed,(6,214),- 49% of the 6,214 user reviews ...   \n2  Mixed,(166),- 54% of the 166 user reviews in t...   \n3  Mixed,(932),- 57% of the 932 user reviews in t...   \n4  Mixed,(287),- 54% of the 287 user reviews in t...   \n\n                                         all_reviews  release_date  \\\n0  Very Positive,(42,550),- 92% of the 42,550 use...  May 12, 2016   \n1  Mixed,(836,608),- 49% of the 836,608 user revi...  Dec 21, 2017   \n2  Mostly Positive,(7,030),- 71% of the 7,030 use...  Apr 24, 2018   \n3  Mixed,(167,115),- 61% of the 167,115 user revi...  Dec 13, 2018   \n4  Mostly Positive,(11,481),- 74% of the 11,481 u...   May 6, 2003   \n\n             developer                                publisher  \\\n0          id Software    Bethesda Softworks,Bethesda Softworks   \n1     PUBG Corporation        PUBG Corporation,PUBG Corporation   \n2  Harebrained Schemes  Paradox Interactive,Paradox Interactive   \n3  Bohemia Interactive  Bohemia Interactive,Bohemia Interactive   \n4                  CCP                                  CCP,CCP   \n\n                                        popular_tags  \\\n0  FPS,Gore,Action,Demons,Shooter,First-Person,Gr...   \n1  Survival,Shooter,Multiplayer,Battle Royale,PvP...   \n2  Mechs,Strategy,Turn-Based,Turn-Based Tactics,S...   \n3  Survival,Zombies,Open World,Multiplayer,PvP,Ma...   \n4  Space,Massively Multiplayer,Sci-fi,Sandbox,MMO...   \n\n                                        game_details  \\\n0  Single-player,Multi-player,Co-op,Steam Achieve...   \n1             Multi-player,Online Multi-Player,Stats   \n2  Single-player,Multi-player,Online Multi-Player...   \n3  Multi-player,Online Multi-Player,Steam Worksho...   \n4  Multi-player,Online Multi-Player,MMO,Co-op,Onl...   \n\n                                           languages  achievements  \\\n0  English,French,Italian,German,Spanish - Spain,...          54.0   \n1  English,Korean,Simplified Chinese,French,Germa...          37.0   \n2                      English,French,German,Russian         128.0   \n3  English,French,Italian,German,Spanish - Spain,...           NaN   \n4                      English,German,Russian,French           NaN   \n\n                                               genre  \\\n0                                             Action   \n1             Action,Adventure,Massively Multiplayer   \n2                          Action,Adventure,Strategy   \n3             Action,Adventure,Massively Multiplayer   \n4  Action,Free to Play,Massively Multiplayer,RPG,...   \n\n                                    game_description  \\\n0   About This Game Developed by id software, the...   \n1   About This Game  PLAYERUNKNOWN'S BATTLEGROUND...   \n2   About This Game  From original BATTLETECH/Mec...   \n3   About This Game The post-soviet country of Ch...   \n4                                  About This Game     \n\n                                      mature_content  \\\n0                                                NaN   \n1   Mature Content Description  The developers de...   \n2                                                NaN   \n3                                                NaN   \n4                                                NaN   \n\n                                minimum_requirements  \\\n0  Minimum:,OS:,Windows 7/8.1/10 (64-bit versions...   \n1  Minimum:,Requires a 64-bit processor and opera...   \n2  Minimum:,Requires a 64-bit processor and opera...   \n3  Minimum:,OS:,Windows 7/8.1 64-bit,Processor:,I...   \n4  Minimum:,OS:,Windows 7,Processor:,Intel Dual C...   \n\n                            recommended_requirements original_price  \\\n0  Recommended:,OS:,Windows 7/8.1/10 (64-bit vers...         $19.99   \n1  Recommended:,Requires a 64-bit processor and o...         $29.99   \n2  Recommended:,Requires a 64-bit processor and o...         $39.99   \n3  Recommended:,OS:,Windows 10 64-bit,Processor:,...         $44.99   \n4  Recommended:,OS:,Windows 10,Processor:,Intel i...           Free   \n\n  discount_price  \n0         $14.99  \n1            NaN  \n2            NaN  \n3            NaN  \n4            NaN  ",
      "text/html": "<div>\n<style scoped>\n    .dataframe tbody tr th:only-of-type {\n        vertical-align: middle;\n    }\n\n    .dataframe tbody tr th {\n        vertical-align: top;\n    }\n\n    .dataframe thead th {\n        text-align: right;\n    }\n</style>\n<table border=\"1\" class=\"dataframe\">\n  <thead>\n    <tr style=\"text-align: right;\">\n      <th></th>\n      <th>url</th>\n      <th>types</th>\n      <th>name</th>\n      <th>desc_snippet</th>\n      <th>recent_reviews</th>\n      <th>all_reviews</th>\n      <th>release_date</th>\n      <th>developer</th>\n      <th>publisher</th>\n      <th>popular_tags</th>\n      <th>game_details</th>\n      <th>languages</th>\n      <th>achievements</th>\n      <th>genre</th>\n      <th>game_description</th>\n      <th>mature_content</th>\n      <th>minimum_requirements</th>\n      <th>recommended_requirements</th>\n      <th>original_price</th>\n      <th>discount_price</th>\n    </tr>\n  </thead>\n  <tbody>\n    <tr>\n      <th>0</th>\n      <td>https://store.steampowered.com/app/379720/DOOM/</td>\n      <td>app</td>\n      <td>DOOM</td>\n      <td>Now includes all three premium DLC packs (Unto...</td>\n      <td>Very Positive,(554),- 89% of the 554 user revi...</td>\n      <td>Very Positive,(42,550),- 92% of the 42,550 use...</td>\n      <td>May 12, 2016</td>\n      <td>id Software</td>\n      <td>Bethesda Softworks,Bethesda Softworks</td>\n      <td>FPS,Gore,Action,Demons,Shooter,First-Person,Gr...</td>\n      <td>Single-player,Multi-player,Co-op,Steam Achieve...</td>\n      <td>English,French,Italian,German,Spanish - Spain,...</td>\n      <td>54.0</td>\n      <td>Action</td>\n      <td>About This Game Developed by id software, the...</td>\n      <td>NaN</td>\n      <td>Minimum:,OS:,Windows 7/8.1/10 (64-bit versions...</td>\n      <td>Recommended:,OS:,Windows 7/8.1/10 (64-bit vers...</td>\n      <td>$19.99</td>\n      <td>$14.99</td>\n    </tr>\n    <tr>\n      <th>1</th>\n      <td>https://store.steampowered.com/app/578080/PLAY...</td>\n      <td>app</td>\n      <td>PLAYERUNKNOWN'S BATTLEGROUNDS</td>\n      <td>PLAYERUNKNOWN'S BATTLEGROUNDS is a battle roya...</td>\n      <td>Mixed,(6,214),- 49% of the 6,214 user reviews ...</td>\n      <td>Mixed,(836,608),- 49% of the 836,608 user revi...</td>\n      <td>Dec 21, 2017</td>\n      <td>PUBG Corporation</td>\n      <td>PUBG Corporation,PUBG Corporation</td>\n      <td>Survival,Shooter,Multiplayer,Battle Royale,PvP...</td>\n      <td>Multi-player,Online Multi-Player,Stats</td>\n      <td>English,Korean,Simplified Chinese,French,Germa...</td>\n      <td>37.0</td>\n      <td>Action,Adventure,Massively Multiplayer</td>\n      <td>About This Game  PLAYERUNKNOWN'S BATTLEGROUND...</td>\n      <td>Mature Content Description  The developers de...</td>\n      <td>Minimum:,Requires a 64-bit processor and opera...</td>\n      <td>Recommended:,Requires a 64-bit processor and o...</td>\n      <td>$29.99</td>\n      <td>NaN</td>\n    </tr>\n    <tr>\n      <th>2</th>\n      <td>https://store.steampowered.com/app/637090/BATT...</td>\n      <td>app</td>\n      <td>BATTLETECH</td>\n      <td>Take command of your own mercenary outfit of '...</td>\n      <td>Mixed,(166),- 54% of the 166 user reviews in t...</td>\n      <td>Mostly Positive,(7,030),- 71% of the 7,030 use...</td>\n      <td>Apr 24, 2018</td>\n      <td>Harebrained Schemes</td>\n      <td>Paradox Interactive,Paradox Interactive</td>\n      <td>Mechs,Strategy,Turn-Based,Turn-Based Tactics,S...</td>\n      <td>Single-player,Multi-player,Online Multi-Player...</td>\n      <td>English,French,German,Russian</td>\n      <td>128.0</td>\n      <td>Action,Adventure,Strategy</td>\n      <td>About This Game  From original BATTLETECH/Mec...</td>\n      <td>NaN</td>\n      <td>Minimum:,Requires a 64-bit processor and opera...</td>\n      <td>Recommended:,Requires a 64-bit processor and o...</td>\n      <td>$39.99</td>\n      <td>NaN</td>\n    </tr>\n    <tr>\n      <th>3</th>\n      <td>https://store.steampowered.com/app/221100/DayZ/</td>\n      <td>app</td>\n      <td>DayZ</td>\n      <td>The post-soviet country of Chernarus is struck...</td>\n      <td>Mixed,(932),- 57% of the 932 user reviews in t...</td>\n      <td>Mixed,(167,115),- 61% of the 167,115 user revi...</td>\n      <td>Dec 13, 2018</td>\n      <td>Bohemia Interactive</td>\n      <td>Bohemia Interactive,Bohemia Interactive</td>\n      <td>Survival,Zombies,Open World,Multiplayer,PvP,Ma...</td>\n      <td>Multi-player,Online Multi-Player,Steam Worksho...</td>\n      <td>English,French,Italian,German,Spanish - Spain,...</td>\n      <td>NaN</td>\n      <td>Action,Adventure,Massively Multiplayer</td>\n      <td>About This Game The post-soviet country of Ch...</td>\n      <td>NaN</td>\n      <td>Minimum:,OS:,Windows 7/8.1 64-bit,Processor:,I...</td>\n      <td>Recommended:,OS:,Windows 10 64-bit,Processor:,...</td>\n      <td>$44.99</td>\n      <td>NaN</td>\n    </tr>\n    <tr>\n      <th>4</th>\n      <td>https://store.steampowered.com/app/8500/EVE_On...</td>\n      <td>app</td>\n      <td>EVE Online</td>\n      <td>EVE Online is a community-driven spaceship MMO...</td>\n      <td>Mixed,(287),- 54% of the 287 user reviews in t...</td>\n      <td>Mostly Positive,(11,481),- 74% of the 11,481 u...</td>\n      <td>May 6, 2003</td>\n      <td>CCP</td>\n      <td>CCP,CCP</td>\n      <td>Space,Massively Multiplayer,Sci-fi,Sandbox,MMO...</td>\n      <td>Multi-player,Online Multi-Player,MMO,Co-op,Onl...</td>\n      <td>English,German,Russian,French</td>\n      <td>NaN</td>\n      <td>Action,Free to Play,Massively Multiplayer,RPG,...</td>\n      <td>About This Game</td>\n      <td>NaN</td>\n      <td>Minimum:,OS:,Windows 7,Processor:,Intel Dual C...</td>\n      <td>Recommended:,OS:,Windows 10,Processor:,Intel i...</td>\n      <td>Free</td>\n      <td>NaN</td>\n    </tr>\n  </tbody>\n</table>\n</div>"
     },
     "metadata": {},
     "execution_count": 3
    }
   ],
   "source": [
    "# Load CSV into dataframe games_features\n",
    "\n",
    "games_features = pd.read_csv(file_to_load)\n",
    "\n",
    "games_features.head()"
   ]
  },
  {
   "cell_type": "code",
   "execution_count": 4,
   "metadata": {},
   "outputs": [],
   "source": [
    "# Creating additional columns from popular tag strings, and placing values if the tag exists for the game. \n",
    "\n",
    "games_data = pd.concat([games_features,games_features[\"popular_tags\"].str.get_dummies(sep=',')], 1)"
   ]
  },
  {
   "cell_type": "code",
   "execution_count": 5,
   "metadata": {},
   "outputs": [],
   "source": [
    "# Get the sum of each column \n",
    "# Note: This line takes a long time to run.\n",
    "tag_sums = games_data.sum()"
   ]
  },
  {
   "cell_type": "code",
   "execution_count": 6,
   "metadata": {},
   "outputs": [],
   "source": [
    "# Create a dataframe for tag_sums \n",
    "tag_sums = tag_sums.to_frame()"
   ]
  },
  {
   "cell_type": "code",
   "execution_count": 7,
   "metadata": {},
   "outputs": [],
   "source": [
    "# Drop URL column \n",
    "tag_sums = tag_sums.drop(['url'])"
   ]
  },
  {
   "cell_type": "code",
   "execution_count": 8,
   "metadata": {},
   "outputs": [],
   "source": [
    "# Sort values \n",
    "tag_sums = tag_sums.sort_values(by=0)"
   ]
  },
  {
   "cell_type": "code",
   "execution_count": 9,
   "metadata": {},
   "outputs": [],
   "source": [
    "# Removing columns where there are tag sums less than 100 to reduce miscellaneous/less popular tags \n",
    "unwanted_columns = tag_sums[tag_sums[0] < 100]"
   ]
  },
  {
   "cell_type": "code",
   "execution_count": 10,
   "metadata": {},
   "outputs": [
    {
     "output_type": "execute_result",
     "data": {
      "text/plain": "Index(['Skiing', 'Asymmetric VR', 'Snow', 'BMX', 'Snowboarding', 'ATV', 'Jet',\n       'Feature Film', 'Skating', 'Foreign',\n       ...\n       'Politics', 'Dragons', 'Battle Royale', 'Runner', 'Psychedelic',\n       'Ninja', 'Political', 'Noir', 'Dungeons & Dragons', 'Dark Comedy'],\n      dtype='object', length=152)"
     },
     "metadata": {},
     "execution_count": 10
    }
   ],
   "source": [
    "# Display columns to be dropped \n",
    "unwanted_columns.index "
   ]
  },
  {
   "cell_type": "code",
   "execution_count": 11,
   "metadata": {},
   "outputs": [],
   "source": [
    "# Update games_data dataframe by dropping unwanted columns of less popular tags \n",
    "games_data = games_data.drop(columns = unwanted_columns.index, axis = 1)"
   ]
  },
  {
   "cell_type": "code",
   "execution_count": 12,
   "metadata": {},
   "outputs": [],
   "source": [
    "# Creating Popular Tags dataframe by pulling column groups and combining them \n",
    "\n",
    "# Filtering game data to collect the popular tag columns into one dataframe \n",
    "game_data_filtered = games_data.loc[:, '1980s':'Zombies']\n",
    "\n",
    "# Grabbing name of game column and \n",
    "game_data_name_attribute = games_data.loc[:, 'name':'name']\n",
    "\n",
    "# Merging the dataframes together \n",
    "mergedDf = game_data_name_attribute.merge(game_data_filtered, left_index=True, right_index=True) \n",
    "\n",
    "# Selecting original popular tag strings \n",
    "popular_tag_name_attribute = games_data.loc[:, 'popular_tags':'popular_tags']\n",
    "\n",
    "# Merging into main dataframe with game names and tag columns \n",
    "merged_data_frame = popular_tag_name_attribute.merge(mergedDf, left_index=True, right_index=True) "
   ]
  },
  {
   "cell_type": "code",
   "execution_count": 13,
   "metadata": {},
   "outputs": [],
   "source": [
    "# Updating all game titles to uppercase to improve merge with game ratings \n",
    "merged_data_frame['name'] = merged_data_frame['name'].str.upper()"
   ]
  },
  {
   "cell_type": "code",
   "execution_count": 14,
   "metadata": {},
   "outputs": [],
   "source": [
    "# Loading Positive Ratings file created from cleaning data from main resources folder \n",
    "second_file_to_load = '../../resources/user_reviews.csv'"
   ]
  },
  {
   "cell_type": "code",
   "execution_count": 15,
   "metadata": {},
   "outputs": [
    {
     "output_type": "execute_result",
     "data": {
      "text/plain": "   Unnamed: 0                       name  percent_positive_reviews\n0           0             Counter-Strike                      97.0\n1           1      Team Fortress Classic                      84.0\n2           2              Day of Defeat                      90.0\n3           3         Deathmatch Classic                      83.0\n4           4  Half-Life: Opposing Force                      95.0",
      "text/html": "<div>\n<style scoped>\n    .dataframe tbody tr th:only-of-type {\n        vertical-align: middle;\n    }\n\n    .dataframe tbody tr th {\n        vertical-align: top;\n    }\n\n    .dataframe thead th {\n        text-align: right;\n    }\n</style>\n<table border=\"1\" class=\"dataframe\">\n  <thead>\n    <tr style=\"text-align: right;\">\n      <th></th>\n      <th>Unnamed: 0</th>\n      <th>name</th>\n      <th>percent_positive_reviews</th>\n    </tr>\n  </thead>\n  <tbody>\n    <tr>\n      <th>0</th>\n      <td>0</td>\n      <td>Counter-Strike</td>\n      <td>97.0</td>\n    </tr>\n    <tr>\n      <th>1</th>\n      <td>1</td>\n      <td>Team Fortress Classic</td>\n      <td>84.0</td>\n    </tr>\n    <tr>\n      <th>2</th>\n      <td>2</td>\n      <td>Day of Defeat</td>\n      <td>90.0</td>\n    </tr>\n    <tr>\n      <th>3</th>\n      <td>3</td>\n      <td>Deathmatch Classic</td>\n      <td>83.0</td>\n    </tr>\n    <tr>\n      <th>4</th>\n      <td>4</td>\n      <td>Half-Life: Opposing Force</td>\n      <td>95.0</td>\n    </tr>\n  </tbody>\n</table>\n</div>"
     },
     "metadata": {},
     "execution_count": 15
    }
   ],
   "source": [
    "# Loading positive user reviews into dataframe \n",
    "video_game_sales = pd.read_csv(second_file_to_load)\n",
    "\n",
    "video_game_sales.head()"
   ]
  },
  {
   "cell_type": "code",
   "execution_count": 16,
   "metadata": {},
   "outputs": [],
   "source": [
    "# Dropping index column by grouping name and review columns \n",
    "video_game_sales = video_game_sales[['name', 'percent_positive_reviews']]"
   ]
  },
  {
   "cell_type": "code",
   "execution_count": 17,
   "metadata": {},
   "outputs": [],
   "source": [
    "# Dropping NaN values from dataframe \n",
    "video_game_sales = video_game_sales.dropna()"
   ]
  },
  {
   "cell_type": "code",
   "execution_count": 18,
   "metadata": {},
   "outputs": [
    {
     "output_type": "execute_result",
     "data": {
      "text/plain": "(7492, 2)"
     },
     "metadata": {},
     "execution_count": 18
    }
   ],
   "source": [
    "# Confirming row and column counts of dataframe after NaN drop (7492 rows, 2 columns)\n",
    "video_game_sales.shape"
   ]
  },
  {
   "cell_type": "code",
   "execution_count": 19,
   "metadata": {},
   "outputs": [],
   "source": [
    "# Updating all game titles to uppercase to improve merge with main popular tags dataframe\n",
    "video_game_sales['name'] = video_game_sales['name'].str.upper()"
   ]
  },
  {
   "cell_type": "code",
   "execution_count": 20,
   "metadata": {},
   "outputs": [],
   "source": [
    "# Merging ratings with popular tags dataframe on name \n",
    "newly_merged_dataframe = pd.merge(video_game_sales, merged_data_frame, on=\"name\")"
   ]
  },
  {
   "cell_type": "code",
   "execution_count": 21,
   "metadata": {},
   "outputs": [
    {
     "output_type": "execute_result",
     "data": {
      "text/plain": "                        name  percent_positive_reviews  \\\n0             COUNTER-STRIKE                      97.0   \n1      TEAM FORTRESS CLASSIC                      84.0   \n2              DAY OF DEFEAT                      90.0   \n3         DEATHMATCH CLASSIC                      83.0   \n4  HALF-LIFE: OPPOSING FORCE                      95.0   \n5                   RICOCHET                      80.0   \n6                  HALF-LIFE                      96.0   \n7      HALF-LIFE: BLUE SHIFT                      90.0   \n8                HALF-LIFE 2                      97.0   \n9     COUNTER-STRIKE: SOURCE                      96.0   \n\n                                        popular_tags  1980s  1990's  2.5D  2D  \\\n0  Action,FPS,Multiplayer,Shooter,Classic,Team-Ba...      1       1     0   0   \n1  Action,FPS,Multiplayer,Classic,Shooter,Team-Ba...      0       1     0   0   \n2  FPS,World War II,Multiplayer,Shooter,Action,Wa...      0       0     0   0   \n3  Action,FPS,Classic,Multiplayer,Shooter,First-P...      0       0     0   0   \n4  FPS,Action,Classic,Sci-fi,Singleplayer,Shooter...      0       1     0   0   \n5  Action,FPS,Multiplayer,Masterpiece,Classic,Fir...      0       0     0   0   \n6  FPS,Classic,Action,Sci-fi,Singleplayer,Masterp...      0       1     0   0   \n7  FPS,Action,Sci-fi,Singleplayer,Shooter,Aliens,...      0       1     0   0   \n8  FPS,Action,Sci-fi,Classic,Singleplayer,Masterp...      0       0     0   0   \n9  Shooter,Action,FPS,Multiplayer,Team-Based,Firs...      0       0     0   0   \n\n   2D Fighter  3D  3D Platformer  ...  Video Production  Violent  \\\n0           0   0              0  ...                 0        0   \n1           0   0              0  ...                 0        1   \n2           0   0              0  ...                 0        0   \n3           0   0              0  ...                 0        0   \n4           0   0              0  ...                 0        0   \n5           0   1              0  ...                 0        0   \n6           0   0              0  ...                 0        0   \n7           0   0              0  ...                 0        0   \n8           0   0              0  ...                 0        0   \n9           0   0              0  ...                 0        0   \n\n   Visual Novel  Voxel  Walking Simulator  War  Wargame  Web Publishing  \\\n0             0      0                  0    0        0               0   \n1             0      0                  0    0        0               0   \n2             0      0                  0    1        0               0   \n3             0      0                  0    0        0               0   \n4             0      0                  0    0        0               0   \n5             0      0                  0    0        0               0   \n6             0      0                  0    0        0               0   \n7             0      0                  0    0        0               0   \n8             0      0                  0    0        0               0   \n9             0      0                  0    1        0               0   \n\n   World War II  Zombies  \n0             0        0  \n1             0        0  \n2             1        0  \n3             0        0  \n4             0        0  \n5             0        0  \n6             0        0  \n7             0        1  \n8             0        1  \n9             0        0  \n\n[10 rows x 227 columns]",
      "text/html": "<div>\n<style scoped>\n    .dataframe tbody tr th:only-of-type {\n        vertical-align: middle;\n    }\n\n    .dataframe tbody tr th {\n        vertical-align: top;\n    }\n\n    .dataframe thead th {\n        text-align: right;\n    }\n</style>\n<table border=\"1\" class=\"dataframe\">\n  <thead>\n    <tr style=\"text-align: right;\">\n      <th></th>\n      <th>name</th>\n      <th>percent_positive_reviews</th>\n      <th>popular_tags</th>\n      <th>1980s</th>\n      <th>1990's</th>\n      <th>2.5D</th>\n      <th>2D</th>\n      <th>2D Fighter</th>\n      <th>3D</th>\n      <th>3D Platformer</th>\n      <th>...</th>\n      <th>Video Production</th>\n      <th>Violent</th>\n      <th>Visual Novel</th>\n      <th>Voxel</th>\n      <th>Walking Simulator</th>\n      <th>War</th>\n      <th>Wargame</th>\n      <th>Web Publishing</th>\n      <th>World War II</th>\n      <th>Zombies</th>\n    </tr>\n  </thead>\n  <tbody>\n    <tr>\n      <th>0</th>\n      <td>COUNTER-STRIKE</td>\n      <td>97.0</td>\n      <td>Action,FPS,Multiplayer,Shooter,Classic,Team-Ba...</td>\n      <td>1</td>\n      <td>1</td>\n      <td>0</td>\n      <td>0</td>\n      <td>0</td>\n      <td>0</td>\n      <td>0</td>\n      <td>...</td>\n      <td>0</td>\n      <td>0</td>\n      <td>0</td>\n      <td>0</td>\n      <td>0</td>\n      <td>0</td>\n      <td>0</td>\n      <td>0</td>\n      <td>0</td>\n      <td>0</td>\n    </tr>\n    <tr>\n      <th>1</th>\n      <td>TEAM FORTRESS CLASSIC</td>\n      <td>84.0</td>\n      <td>Action,FPS,Multiplayer,Classic,Shooter,Team-Ba...</td>\n      <td>0</td>\n      <td>1</td>\n      <td>0</td>\n      <td>0</td>\n      <td>0</td>\n      <td>0</td>\n      <td>0</td>\n      <td>...</td>\n      <td>0</td>\n      <td>1</td>\n      <td>0</td>\n      <td>0</td>\n      <td>0</td>\n      <td>0</td>\n      <td>0</td>\n      <td>0</td>\n      <td>0</td>\n      <td>0</td>\n    </tr>\n    <tr>\n      <th>2</th>\n      <td>DAY OF DEFEAT</td>\n      <td>90.0</td>\n      <td>FPS,World War II,Multiplayer,Shooter,Action,Wa...</td>\n      <td>0</td>\n      <td>0</td>\n      <td>0</td>\n      <td>0</td>\n      <td>0</td>\n      <td>0</td>\n      <td>0</td>\n      <td>...</td>\n      <td>0</td>\n      <td>0</td>\n      <td>0</td>\n      <td>0</td>\n      <td>0</td>\n      <td>1</td>\n      <td>0</td>\n      <td>0</td>\n      <td>1</td>\n      <td>0</td>\n    </tr>\n    <tr>\n      <th>3</th>\n      <td>DEATHMATCH CLASSIC</td>\n      <td>83.0</td>\n      <td>Action,FPS,Classic,Multiplayer,Shooter,First-P...</td>\n      <td>0</td>\n      <td>0</td>\n      <td>0</td>\n      <td>0</td>\n      <td>0</td>\n      <td>0</td>\n      <td>0</td>\n      <td>...</td>\n      <td>0</td>\n      <td>0</td>\n      <td>0</td>\n      <td>0</td>\n      <td>0</td>\n      <td>0</td>\n      <td>0</td>\n      <td>0</td>\n      <td>0</td>\n      <td>0</td>\n    </tr>\n    <tr>\n      <th>4</th>\n      <td>HALF-LIFE: OPPOSING FORCE</td>\n      <td>95.0</td>\n      <td>FPS,Action,Classic,Sci-fi,Singleplayer,Shooter...</td>\n      <td>0</td>\n      <td>1</td>\n      <td>0</td>\n      <td>0</td>\n      <td>0</td>\n      <td>0</td>\n      <td>0</td>\n      <td>...</td>\n      <td>0</td>\n      <td>0</td>\n      <td>0</td>\n      <td>0</td>\n      <td>0</td>\n      <td>0</td>\n      <td>0</td>\n      <td>0</td>\n      <td>0</td>\n      <td>0</td>\n    </tr>\n    <tr>\n      <th>5</th>\n      <td>RICOCHET</td>\n      <td>80.0</td>\n      <td>Action,FPS,Multiplayer,Masterpiece,Classic,Fir...</td>\n      <td>0</td>\n      <td>0</td>\n      <td>0</td>\n      <td>0</td>\n      <td>0</td>\n      <td>1</td>\n      <td>0</td>\n      <td>...</td>\n      <td>0</td>\n      <td>0</td>\n      <td>0</td>\n      <td>0</td>\n      <td>0</td>\n      <td>0</td>\n      <td>0</td>\n      <td>0</td>\n      <td>0</td>\n      <td>0</td>\n    </tr>\n    <tr>\n      <th>6</th>\n      <td>HALF-LIFE</td>\n      <td>96.0</td>\n      <td>FPS,Classic,Action,Sci-fi,Singleplayer,Masterp...</td>\n      <td>0</td>\n      <td>1</td>\n      <td>0</td>\n      <td>0</td>\n      <td>0</td>\n      <td>0</td>\n      <td>0</td>\n      <td>...</td>\n      <td>0</td>\n      <td>0</td>\n      <td>0</td>\n      <td>0</td>\n      <td>0</td>\n      <td>0</td>\n      <td>0</td>\n      <td>0</td>\n      <td>0</td>\n      <td>0</td>\n    </tr>\n    <tr>\n      <th>7</th>\n      <td>HALF-LIFE: BLUE SHIFT</td>\n      <td>90.0</td>\n      <td>FPS,Action,Sci-fi,Singleplayer,Shooter,Aliens,...</td>\n      <td>0</td>\n      <td>1</td>\n      <td>0</td>\n      <td>0</td>\n      <td>0</td>\n      <td>0</td>\n      <td>0</td>\n      <td>...</td>\n      <td>0</td>\n      <td>0</td>\n      <td>0</td>\n      <td>0</td>\n      <td>0</td>\n      <td>0</td>\n      <td>0</td>\n      <td>0</td>\n      <td>0</td>\n      <td>1</td>\n    </tr>\n    <tr>\n      <th>8</th>\n      <td>HALF-LIFE 2</td>\n      <td>97.0</td>\n      <td>FPS,Action,Sci-fi,Classic,Singleplayer,Masterp...</td>\n      <td>0</td>\n      <td>0</td>\n      <td>0</td>\n      <td>0</td>\n      <td>0</td>\n      <td>0</td>\n      <td>0</td>\n      <td>...</td>\n      <td>0</td>\n      <td>0</td>\n      <td>0</td>\n      <td>0</td>\n      <td>0</td>\n      <td>0</td>\n      <td>0</td>\n      <td>0</td>\n      <td>0</td>\n      <td>1</td>\n    </tr>\n    <tr>\n      <th>9</th>\n      <td>COUNTER-STRIKE: SOURCE</td>\n      <td>96.0</td>\n      <td>Shooter,Action,FPS,Multiplayer,Team-Based,Firs...</td>\n      <td>0</td>\n      <td>0</td>\n      <td>0</td>\n      <td>0</td>\n      <td>0</td>\n      <td>0</td>\n      <td>0</td>\n      <td>...</td>\n      <td>0</td>\n      <td>0</td>\n      <td>0</td>\n      <td>0</td>\n      <td>0</td>\n      <td>1</td>\n      <td>0</td>\n      <td>0</td>\n      <td>0</td>\n      <td>0</td>\n    </tr>\n  </tbody>\n</table>\n<p>10 rows × 227 columns</p>\n</div>"
     },
     "metadata": {},
     "execution_count": 21
    }
   ],
   "source": [
    "# Display results of new dataframe \n",
    "newly_merged_dataframe.head(10)"
   ]
  },
  {
   "cell_type": "code",
   "execution_count": 22,
   "metadata": {},
   "outputs": [
    {
     "output_type": "execute_result",
     "data": {
      "text/plain": "(6213, 227)"
     },
     "metadata": {},
     "execution_count": 22
    }
   ],
   "source": [
    "# Confirming row and column count after merge (6213 rows, 227 columns)\n",
    "newly_merged_dataframe.shape "
   ]
  },
  {
   "cell_type": "code",
   "execution_count": 23,
   "metadata": {},
   "outputs": [],
   "source": [
    "# Cleaning column names to reduce errors for CSV import to database,\n",
    "# removing special characters, spaces, and symbols. \n",
    "newly_merged_dataframe.columns = newly_merged_dataframe.columns.str.replace(' ', '_')\n",
    "newly_merged_dataframe.columns = newly_merged_dataframe.columns.str.replace(\"'\", '')\n",
    "newly_merged_dataframe.columns = newly_merged_dataframe.columns.str.replace(\"&\", 'and')\n",
    "newly_merged_dataframe.columns = newly_merged_dataframe.columns.str.replace(\"-\", '_')\n"
   ]
  },
  {
   "cell_type": "code",
   "execution_count": 24,
   "metadata": {},
   "outputs": [],
   "source": [
    "# Updating numerical titles to reduce import errors. \n",
    "newly_merged_dataframe = newly_merged_dataframe.rename(columns = {\"1980s\": \"Tag_1980s\",\n",
    "                                                                  \"1990s\": \"Tag_1990s\",\n",
    "                                                                  \"2.5D\": \"Tag_2_5D\",\n",
    "                                                                  \"2D\": \"Tag_2D\", \n",
    "                                                                  \"2D_Fighter\": \"Tag_2D_Fighter\",\n",
    "                                                                  \"3D\": \"Tag_3D\",\n",
    "                                                                  \"3D_Platformer\": \"Tag_3D_Platformer\",\n",
    "                                                                  \"4_Player_Local\": \"Tag_4_Player_Local\",\n",
    "                                                                  \"4X\": \"Tag_4X\"})"
   ]
  },
  {
   "cell_type": "code",
   "execution_count": 25,
   "metadata": {},
   "outputs": [
    {
     "output_type": "execute_result",
     "data": {
      "text/plain": "                        name  percent_positive_reviews  \\\n0             COUNTER-STRIKE                      97.0   \n1      TEAM FORTRESS CLASSIC                      84.0   \n2              DAY OF DEFEAT                      90.0   \n3         DEATHMATCH CLASSIC                      83.0   \n4  HALF-LIFE: OPPOSING FORCE                      95.0   \n\n                                        popular_tags  Tag_1980s  Tag_1990s  \\\n0  Action,FPS,Multiplayer,Shooter,Classic,Team-Ba...          1          1   \n1  Action,FPS,Multiplayer,Classic,Shooter,Team-Ba...          0          1   \n2  FPS,World War II,Multiplayer,Shooter,Action,Wa...          0          0   \n3  Action,FPS,Classic,Multiplayer,Shooter,First-P...          0          0   \n4  FPS,Action,Classic,Sci-fi,Singleplayer,Shooter...          0          1   \n\n   Tag_2_5D  Tag_2D  Tag_2D_Fighter  Tag_3D  Tag_3D_Platformer  ...  \\\n0         0       0               0       0                  0  ...   \n1         0       0               0       0                  0  ...   \n2         0       0               0       0                  0  ...   \n3         0       0               0       0                  0  ...   \n4         0       0               0       0                  0  ...   \n\n   Video_Production  Violent  Visual_Novel  Voxel  Walking_Simulator  War  \\\n0                 0        0             0      0                  0    0   \n1                 0        1             0      0                  0    0   \n2                 0        0             0      0                  0    1   \n3                 0        0             0      0                  0    0   \n4                 0        0             0      0                  0    0   \n\n   Wargame  Web_Publishing  World_War_II  Zombies  \n0        0               0             0        0  \n1        0               0             0        0  \n2        0               0             1        0  \n3        0               0             0        0  \n4        0               0             0        0  \n\n[5 rows x 227 columns]",
      "text/html": "<div>\n<style scoped>\n    .dataframe tbody tr th:only-of-type {\n        vertical-align: middle;\n    }\n\n    .dataframe tbody tr th {\n        vertical-align: top;\n    }\n\n    .dataframe thead th {\n        text-align: right;\n    }\n</style>\n<table border=\"1\" class=\"dataframe\">\n  <thead>\n    <tr style=\"text-align: right;\">\n      <th></th>\n      <th>name</th>\n      <th>percent_positive_reviews</th>\n      <th>popular_tags</th>\n      <th>Tag_1980s</th>\n      <th>Tag_1990s</th>\n      <th>Tag_2_5D</th>\n      <th>Tag_2D</th>\n      <th>Tag_2D_Fighter</th>\n      <th>Tag_3D</th>\n      <th>Tag_3D_Platformer</th>\n      <th>...</th>\n      <th>Video_Production</th>\n      <th>Violent</th>\n      <th>Visual_Novel</th>\n      <th>Voxel</th>\n      <th>Walking_Simulator</th>\n      <th>War</th>\n      <th>Wargame</th>\n      <th>Web_Publishing</th>\n      <th>World_War_II</th>\n      <th>Zombies</th>\n    </tr>\n  </thead>\n  <tbody>\n    <tr>\n      <th>0</th>\n      <td>COUNTER-STRIKE</td>\n      <td>97.0</td>\n      <td>Action,FPS,Multiplayer,Shooter,Classic,Team-Ba...</td>\n      <td>1</td>\n      <td>1</td>\n      <td>0</td>\n      <td>0</td>\n      <td>0</td>\n      <td>0</td>\n      <td>0</td>\n      <td>...</td>\n      <td>0</td>\n      <td>0</td>\n      <td>0</td>\n      <td>0</td>\n      <td>0</td>\n      <td>0</td>\n      <td>0</td>\n      <td>0</td>\n      <td>0</td>\n      <td>0</td>\n    </tr>\n    <tr>\n      <th>1</th>\n      <td>TEAM FORTRESS CLASSIC</td>\n      <td>84.0</td>\n      <td>Action,FPS,Multiplayer,Classic,Shooter,Team-Ba...</td>\n      <td>0</td>\n      <td>1</td>\n      <td>0</td>\n      <td>0</td>\n      <td>0</td>\n      <td>0</td>\n      <td>0</td>\n      <td>...</td>\n      <td>0</td>\n      <td>1</td>\n      <td>0</td>\n      <td>0</td>\n      <td>0</td>\n      <td>0</td>\n      <td>0</td>\n      <td>0</td>\n      <td>0</td>\n      <td>0</td>\n    </tr>\n    <tr>\n      <th>2</th>\n      <td>DAY OF DEFEAT</td>\n      <td>90.0</td>\n      <td>FPS,World War II,Multiplayer,Shooter,Action,Wa...</td>\n      <td>0</td>\n      <td>0</td>\n      <td>0</td>\n      <td>0</td>\n      <td>0</td>\n      <td>0</td>\n      <td>0</td>\n      <td>...</td>\n      <td>0</td>\n      <td>0</td>\n      <td>0</td>\n      <td>0</td>\n      <td>0</td>\n      <td>1</td>\n      <td>0</td>\n      <td>0</td>\n      <td>1</td>\n      <td>0</td>\n    </tr>\n    <tr>\n      <th>3</th>\n      <td>DEATHMATCH CLASSIC</td>\n      <td>83.0</td>\n      <td>Action,FPS,Classic,Multiplayer,Shooter,First-P...</td>\n      <td>0</td>\n      <td>0</td>\n      <td>0</td>\n      <td>0</td>\n      <td>0</td>\n      <td>0</td>\n      <td>0</td>\n      <td>...</td>\n      <td>0</td>\n      <td>0</td>\n      <td>0</td>\n      <td>0</td>\n      <td>0</td>\n      <td>0</td>\n      <td>0</td>\n      <td>0</td>\n      <td>0</td>\n      <td>0</td>\n    </tr>\n    <tr>\n      <th>4</th>\n      <td>HALF-LIFE: OPPOSING FORCE</td>\n      <td>95.0</td>\n      <td>FPS,Action,Classic,Sci-fi,Singleplayer,Shooter...</td>\n      <td>0</td>\n      <td>1</td>\n      <td>0</td>\n      <td>0</td>\n      <td>0</td>\n      <td>0</td>\n      <td>0</td>\n      <td>...</td>\n      <td>0</td>\n      <td>0</td>\n      <td>0</td>\n      <td>0</td>\n      <td>0</td>\n      <td>0</td>\n      <td>0</td>\n      <td>0</td>\n      <td>0</td>\n      <td>0</td>\n    </tr>\n  </tbody>\n</table>\n<p>5 rows × 227 columns</p>\n</div>"
     },
     "metadata": {},
     "execution_count": 25
    }
   ],
   "source": [
    "# View updated column names \n",
    "newly_merged_dataframe.head()"
   ]
  },
  {
   "cell_type": "code",
   "execution_count": 26,
   "metadata": {},
   "outputs": [
    {
     "output_type": "execute_result",
     "data": {
      "text/plain": "(6213, 227)"
     },
     "metadata": {},
     "execution_count": 26
    }
   ],
   "source": [
    "# Confirming row and column count after merge (6213 rows, 227 columns)\n",
    "newly_merged_dataframe.shape"
   ]
  },
  {
   "cell_type": "code",
   "execution_count": 27,
   "metadata": {},
   "outputs": [],
   "source": [
    "# Dropping duplicates based on game name and NaN values from merged rows \n",
    "newly_merged_dataframe = newly_merged_dataframe.drop_duplicates(subset=['name'], keep='first') \n",
    "\n",
    "newly_merged_dataframe = newly_merged_dataframe.dropna()"
   ]
  },
  {
   "cell_type": "code",
   "execution_count": 28,
   "metadata": {},
   "outputs": [
    {
     "output_type": "execute_result",
     "data": {
      "text/plain": "(6188, 227)"
     },
     "metadata": {},
     "execution_count": 28
    }
   ],
   "source": [
    "# Confirming row and column count after drops (6188 rows and 227 columns)\n",
    "newly_merged_dataframe.shape"
   ]
  },
  {
   "cell_type": "code",
   "execution_count": 29,
   "metadata": {},
   "outputs": [
    {
     "output_type": "execute_result",
     "data": {
      "text/plain": "                   game_name  percent_positive_reviews  \\\n0             COUNTER-STRIKE                      97.0   \n1      TEAM FORTRESS CLASSIC                      84.0   \n2              DAY OF DEFEAT                      90.0   \n3         DEATHMATCH CLASSIC                      83.0   \n4  HALF-LIFE: OPPOSING FORCE                      95.0   \n\n                                        popular_tags  Tag_1980s  Tag_1990s  \\\n0  Action,FPS,Multiplayer,Shooter,Classic,Team-Ba...          1          1   \n1  Action,FPS,Multiplayer,Classic,Shooter,Team-Ba...          0          1   \n2  FPS,World War II,Multiplayer,Shooter,Action,Wa...          0          0   \n3  Action,FPS,Classic,Multiplayer,Shooter,First-P...          0          0   \n4  FPS,Action,Classic,Sci-fi,Singleplayer,Shooter...          0          1   \n\n   Tag_2_5D  Tag_2D  Tag_2D_Fighter  Tag_3D  Tag_3D_Platformer  ...  \\\n0         0       0               0       0                  0  ...   \n1         0       0               0       0                  0  ...   \n2         0       0               0       0                  0  ...   \n3         0       0               0       0                  0  ...   \n4         0       0               0       0                  0  ...   \n\n   Video_Production  Violent  Visual_Novel  Voxel  Walking_Simulator  War  \\\n0                 0        0             0      0                  0    0   \n1                 0        1             0      0                  0    0   \n2                 0        0             0      0                  0    1   \n3                 0        0             0      0                  0    0   \n4                 0        0             0      0                  0    0   \n\n   Wargame  Web_Publishing  World_War_II  Zombies  \n0        0               0             0        0  \n1        0               0             0        0  \n2        0               0             1        0  \n3        0               0             0        0  \n4        0               0             0        0  \n\n[5 rows x 227 columns]",
      "text/html": "<div>\n<style scoped>\n    .dataframe tbody tr th:only-of-type {\n        vertical-align: middle;\n    }\n\n    .dataframe tbody tr th {\n        vertical-align: top;\n    }\n\n    .dataframe thead th {\n        text-align: right;\n    }\n</style>\n<table border=\"1\" class=\"dataframe\">\n  <thead>\n    <tr style=\"text-align: right;\">\n      <th></th>\n      <th>game_name</th>\n      <th>percent_positive_reviews</th>\n      <th>popular_tags</th>\n      <th>Tag_1980s</th>\n      <th>Tag_1990s</th>\n      <th>Tag_2_5D</th>\n      <th>Tag_2D</th>\n      <th>Tag_2D_Fighter</th>\n      <th>Tag_3D</th>\n      <th>Tag_3D_Platformer</th>\n      <th>...</th>\n      <th>Video_Production</th>\n      <th>Violent</th>\n      <th>Visual_Novel</th>\n      <th>Voxel</th>\n      <th>Walking_Simulator</th>\n      <th>War</th>\n      <th>Wargame</th>\n      <th>Web_Publishing</th>\n      <th>World_War_II</th>\n      <th>Zombies</th>\n    </tr>\n  </thead>\n  <tbody>\n    <tr>\n      <th>0</th>\n      <td>COUNTER-STRIKE</td>\n      <td>97.0</td>\n      <td>Action,FPS,Multiplayer,Shooter,Classic,Team-Ba...</td>\n      <td>1</td>\n      <td>1</td>\n      <td>0</td>\n      <td>0</td>\n      <td>0</td>\n      <td>0</td>\n      <td>0</td>\n      <td>...</td>\n      <td>0</td>\n      <td>0</td>\n      <td>0</td>\n      <td>0</td>\n      <td>0</td>\n      <td>0</td>\n      <td>0</td>\n      <td>0</td>\n      <td>0</td>\n      <td>0</td>\n    </tr>\n    <tr>\n      <th>1</th>\n      <td>TEAM FORTRESS CLASSIC</td>\n      <td>84.0</td>\n      <td>Action,FPS,Multiplayer,Classic,Shooter,Team-Ba...</td>\n      <td>0</td>\n      <td>1</td>\n      <td>0</td>\n      <td>0</td>\n      <td>0</td>\n      <td>0</td>\n      <td>0</td>\n      <td>...</td>\n      <td>0</td>\n      <td>1</td>\n      <td>0</td>\n      <td>0</td>\n      <td>0</td>\n      <td>0</td>\n      <td>0</td>\n      <td>0</td>\n      <td>0</td>\n      <td>0</td>\n    </tr>\n    <tr>\n      <th>2</th>\n      <td>DAY OF DEFEAT</td>\n      <td>90.0</td>\n      <td>FPS,World War II,Multiplayer,Shooter,Action,Wa...</td>\n      <td>0</td>\n      <td>0</td>\n      <td>0</td>\n      <td>0</td>\n      <td>0</td>\n      <td>0</td>\n      <td>0</td>\n      <td>...</td>\n      <td>0</td>\n      <td>0</td>\n      <td>0</td>\n      <td>0</td>\n      <td>0</td>\n      <td>1</td>\n      <td>0</td>\n      <td>0</td>\n      <td>1</td>\n      <td>0</td>\n    </tr>\n    <tr>\n      <th>3</th>\n      <td>DEATHMATCH CLASSIC</td>\n      <td>83.0</td>\n      <td>Action,FPS,Classic,Multiplayer,Shooter,First-P...</td>\n      <td>0</td>\n      <td>0</td>\n      <td>0</td>\n      <td>0</td>\n      <td>0</td>\n      <td>0</td>\n      <td>0</td>\n      <td>...</td>\n      <td>0</td>\n      <td>0</td>\n      <td>0</td>\n      <td>0</td>\n      <td>0</td>\n      <td>0</td>\n      <td>0</td>\n      <td>0</td>\n      <td>0</td>\n      <td>0</td>\n    </tr>\n    <tr>\n      <th>4</th>\n      <td>HALF-LIFE: OPPOSING FORCE</td>\n      <td>95.0</td>\n      <td>FPS,Action,Classic,Sci-fi,Singleplayer,Shooter...</td>\n      <td>0</td>\n      <td>1</td>\n      <td>0</td>\n      <td>0</td>\n      <td>0</td>\n      <td>0</td>\n      <td>0</td>\n      <td>...</td>\n      <td>0</td>\n      <td>0</td>\n      <td>0</td>\n      <td>0</td>\n      <td>0</td>\n      <td>0</td>\n      <td>0</td>\n      <td>0</td>\n      <td>0</td>\n      <td>0</td>\n    </tr>\n  </tbody>\n</table>\n<p>5 rows × 227 columns</p>\n</div>"
     },
     "metadata": {},
     "execution_count": 29
    }
   ],
   "source": [
    "# Rename first column to reduce import errors. \n",
    "newly_merged_dataframe = newly_merged_dataframe.rename(columns = {\"name\": \"game_name\"})\n",
    "\n",
    "newly_merged_dataframe.head()"
   ]
  },
  {
   "cell_type": "code",
   "execution_count": 30,
   "metadata": {},
   "outputs": [],
   "source": [
    "# Export dataframe to Popular_Tags.csv in main resource folder. \n",
    "newly_merged_dataframe.to_csv(r'../../resources/Popular_Tags.csv', index = False)"
   ]
  }
 ]
}