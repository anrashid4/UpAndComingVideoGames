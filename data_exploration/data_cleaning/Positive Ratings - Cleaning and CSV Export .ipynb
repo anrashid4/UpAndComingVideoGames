{
 "cells": [
  {
   "cell_type": "code",
   "execution_count": 1,
   "metadata": {},
   "outputs": [],
   "source": [
    "# -- Positive Ratings, Cleaning and CSV Export \n",
    "\n",
    "# Import dependencies\n",
    "\n",
    "import pandas as pd \n",
    "import numpy as np \n",
    "import matplotlib.pyplot as plt \n",
    "import math"
   ]
  },
  {
   "cell_type": "code",
   "execution_count": 2,
   "metadata": {},
   "outputs": [],
   "source": [
    "# Load steam.csv Kaggle data from main resources folder\n",
    "\n",
    "file_to_load = '../../resources/steam.csv'"
   ]
  },
  {
   "cell_type": "code",
   "execution_count": 3,
   "metadata": {},
   "outputs": [
    {
     "output_type": "execute_result",
     "data": {
      "text/plain": "   appid                       name release_date  english         developer  \\\n0     10             Counter-Strike   2000-11-01        1             Valve   \n1     20      Team Fortress Classic   1999-04-01        1             Valve   \n2     30              Day of Defeat   2003-05-01        1             Valve   \n3     40         Deathmatch Classic   2001-06-01        1             Valve   \n4     50  Half-Life: Opposing Force   1999-11-01        1  Gearbox Software   \n\n  publisher          platforms  required_age  \\\n0     Valve  windows;mac;linux             0   \n1     Valve  windows;mac;linux             0   \n2     Valve  windows;mac;linux             0   \n3     Valve  windows;mac;linux             0   \n4     Valve  windows;mac;linux             0   \n\n                                          categories  genres  \\\n0  Multi-player;Online Multi-Player;Local Multi-P...  Action   \n1  Multi-player;Online Multi-Player;Local Multi-P...  Action   \n2              Multi-player;Valve Anti-Cheat enabled  Action   \n3  Multi-player;Online Multi-Player;Local Multi-P...  Action   \n4  Single-player;Multi-player;Valve Anti-Cheat en...  Action   \n\n                  steamspy_tags  achievements  positive_ratings  \\\n0        Action;FPS;Multiplayer             0            124534   \n1        Action;FPS;Multiplayer             0              3318   \n2  FPS;World War II;Multiplayer             0              3416   \n3        Action;FPS;Multiplayer             0              1273   \n4             FPS;Action;Sci-fi             0              5250   \n\n   negative_ratings  average_playtime  median_playtime             owners  \\\n0              3339             17612              317  10000000-20000000   \n1               633               277               62   5000000-10000000   \n2               398               187               34   5000000-10000000   \n3               267               258              184   5000000-10000000   \n4               288               624              415   5000000-10000000   \n\n   price  \n0   7.19  \n1   3.99  \n2   3.99  \n3   3.99  \n4   3.99  ",
      "text/html": "<div>\n<style scoped>\n    .dataframe tbody tr th:only-of-type {\n        vertical-align: middle;\n    }\n\n    .dataframe tbody tr th {\n        vertical-align: top;\n    }\n\n    .dataframe thead th {\n        text-align: right;\n    }\n</style>\n<table border=\"1\" class=\"dataframe\">\n  <thead>\n    <tr style=\"text-align: right;\">\n      <th></th>\n      <th>appid</th>\n      <th>name</th>\n      <th>release_date</th>\n      <th>english</th>\n      <th>developer</th>\n      <th>publisher</th>\n      <th>platforms</th>\n      <th>required_age</th>\n      <th>categories</th>\n      <th>genres</th>\n      <th>steamspy_tags</th>\n      <th>achievements</th>\n      <th>positive_ratings</th>\n      <th>negative_ratings</th>\n      <th>average_playtime</th>\n      <th>median_playtime</th>\n      <th>owners</th>\n      <th>price</th>\n    </tr>\n  </thead>\n  <tbody>\n    <tr>\n      <th>0</th>\n      <td>10</td>\n      <td>Counter-Strike</td>\n      <td>2000-11-01</td>\n      <td>1</td>\n      <td>Valve</td>\n      <td>Valve</td>\n      <td>windows;mac;linux</td>\n      <td>0</td>\n      <td>Multi-player;Online Multi-Player;Local Multi-P...</td>\n      <td>Action</td>\n      <td>Action;FPS;Multiplayer</td>\n      <td>0</td>\n      <td>124534</td>\n      <td>3339</td>\n      <td>17612</td>\n      <td>317</td>\n      <td>10000000-20000000</td>\n      <td>7.19</td>\n    </tr>\n    <tr>\n      <th>1</th>\n      <td>20</td>\n      <td>Team Fortress Classic</td>\n      <td>1999-04-01</td>\n      <td>1</td>\n      <td>Valve</td>\n      <td>Valve</td>\n      <td>windows;mac;linux</td>\n      <td>0</td>\n      <td>Multi-player;Online Multi-Player;Local Multi-P...</td>\n      <td>Action</td>\n      <td>Action;FPS;Multiplayer</td>\n      <td>0</td>\n      <td>3318</td>\n      <td>633</td>\n      <td>277</td>\n      <td>62</td>\n      <td>5000000-10000000</td>\n      <td>3.99</td>\n    </tr>\n    <tr>\n      <th>2</th>\n      <td>30</td>\n      <td>Day of Defeat</td>\n      <td>2003-05-01</td>\n      <td>1</td>\n      <td>Valve</td>\n      <td>Valve</td>\n      <td>windows;mac;linux</td>\n      <td>0</td>\n      <td>Multi-player;Valve Anti-Cheat enabled</td>\n      <td>Action</td>\n      <td>FPS;World War II;Multiplayer</td>\n      <td>0</td>\n      <td>3416</td>\n      <td>398</td>\n      <td>187</td>\n      <td>34</td>\n      <td>5000000-10000000</td>\n      <td>3.99</td>\n    </tr>\n    <tr>\n      <th>3</th>\n      <td>40</td>\n      <td>Deathmatch Classic</td>\n      <td>2001-06-01</td>\n      <td>1</td>\n      <td>Valve</td>\n      <td>Valve</td>\n      <td>windows;mac;linux</td>\n      <td>0</td>\n      <td>Multi-player;Online Multi-Player;Local Multi-P...</td>\n      <td>Action</td>\n      <td>Action;FPS;Multiplayer</td>\n      <td>0</td>\n      <td>1273</td>\n      <td>267</td>\n      <td>258</td>\n      <td>184</td>\n      <td>5000000-10000000</td>\n      <td>3.99</td>\n    </tr>\n    <tr>\n      <th>4</th>\n      <td>50</td>\n      <td>Half-Life: Opposing Force</td>\n      <td>1999-11-01</td>\n      <td>1</td>\n      <td>Gearbox Software</td>\n      <td>Valve</td>\n      <td>windows;mac;linux</td>\n      <td>0</td>\n      <td>Single-player;Multi-player;Valve Anti-Cheat en...</td>\n      <td>Action</td>\n      <td>FPS;Action;Sci-fi</td>\n      <td>0</td>\n      <td>5250</td>\n      <td>288</td>\n      <td>624</td>\n      <td>415</td>\n      <td>5000000-10000000</td>\n      <td>3.99</td>\n    </tr>\n  </tbody>\n</table>\n</div>"
     },
     "metadata": {},
     "execution_count": 3
    }
   ],
   "source": [
    "# Load CSV into dataframe games_features\n",
    "games_features = pd.read_csv(file_to_load)\n",
    "\n",
    "games_features.head()"
   ]
  },
  {
   "cell_type": "code",
   "execution_count": 4,
   "metadata": {},
   "outputs": [],
   "source": [
    "# Creating new column of game rating out of 100 by taking the average of positive and negative ratings \n",
    "games_features['percent_positive_reviews'] = games_features['positive_ratings'] / (games_features['positive_ratings'] + games_features['negative_ratings'])"
   ]
  },
  {
   "cell_type": "code",
   "execution_count": 5,
   "metadata": {},
   "outputs": [],
   "source": [
    "# Filter and select games with a count of positive ratings over 100. \n",
    "games_features = games_features.loc[games_features['positive_ratings'] > 100, ]"
   ]
  },
  {
   "cell_type": "code",
   "execution_count": 6,
   "metadata": {},
   "outputs": [
    {
     "output_type": "execute_result",
     "data": {
      "text/plain": "(7492, 19)"
     },
     "metadata": {},
     "execution_count": 6
    }
   ],
   "source": [
    "# Confirming row and column counts of dataframe after removing games with low positive rating count (7492 rows, 19 columns)\n",
    "games_features.shape"
   ]
  },
  {
   "cell_type": "code",
   "execution_count": 7,
   "metadata": {},
   "outputs": [],
   "source": [
    "# Updating dataframe to only name and review column \n",
    "games_features = games_features[[\"name\", \"percent_positive_reviews\"]]"
   ]
  },
  {
   "cell_type": "code",
   "execution_count": 8,
   "metadata": {},
   "outputs": [
    {
     "output_type": "execute_result",
     "data": {
      "text/plain": "                        name  percent_positive_reviews\n0             Counter-Strike                  0.973888\n1      Team Fortress Classic                  0.839787\n2              Day of Defeat                  0.895648\n3         Deathmatch Classic                  0.826623\n4  Half-Life: Opposing Force                  0.947996",
      "text/html": "<div>\n<style scoped>\n    .dataframe tbody tr th:only-of-type {\n        vertical-align: middle;\n    }\n\n    .dataframe tbody tr th {\n        vertical-align: top;\n    }\n\n    .dataframe thead th {\n        text-align: right;\n    }\n</style>\n<table border=\"1\" class=\"dataframe\">\n  <thead>\n    <tr style=\"text-align: right;\">\n      <th></th>\n      <th>name</th>\n      <th>percent_positive_reviews</th>\n    </tr>\n  </thead>\n  <tbody>\n    <tr>\n      <th>0</th>\n      <td>Counter-Strike</td>\n      <td>0.973888</td>\n    </tr>\n    <tr>\n      <th>1</th>\n      <td>Team Fortress Classic</td>\n      <td>0.839787</td>\n    </tr>\n    <tr>\n      <th>2</th>\n      <td>Day of Defeat</td>\n      <td>0.895648</td>\n    </tr>\n    <tr>\n      <th>3</th>\n      <td>Deathmatch Classic</td>\n      <td>0.826623</td>\n    </tr>\n    <tr>\n      <th>4</th>\n      <td>Half-Life: Opposing Force</td>\n      <td>0.947996</td>\n    </tr>\n  </tbody>\n</table>\n</div>"
     },
     "metadata": {},
     "execution_count": 8
    }
   ],
   "source": [
    "# Review dataframe \n",
    "games_features.head()"
   ]
  },
  {
   "cell_type": "code",
   "execution_count": 9,
   "metadata": {},
   "outputs": [
    {
     "output_type": "execute_result",
     "data": {
      "text/plain": "name                         object\npercent_positive_reviews    float64\ndtype: object"
     },
     "metadata": {},
     "execution_count": 9
    }
   ],
   "source": [
    "# Confirm data types\n",
    "games_features.dtypes"
   ]
  },
  {
   "cell_type": "code",
   "execution_count": 10,
   "metadata": {},
   "outputs": [],
   "source": [
    "# Update positive review values round to a score out of 100 \n",
    "\n",
    "games_features['percent_positive_reviews'] = games_features['percent_positive_reviews'] * 100\n",
    "\n",
    "games_features['percent_positive_reviews'] = games_features['percent_positive_reviews'].round()"
   ]
  },
  {
   "cell_type": "code",
   "execution_count": 11,
   "metadata": {},
   "outputs": [
    {
     "output_type": "execute_result",
     "data": {
      "text/plain": "                             name  percent_positive_reviews\n0                  Counter-Strike                      97.0\n1           Team Fortress Classic                      84.0\n2                   Day of Defeat                      90.0\n3              Deathmatch Classic                      83.0\n4       Half-Life: Opposing Force                      95.0\n5                        Ricochet                      80.0\n6                       Half-Life                      96.0\n7  Counter-Strike: Condition Zero                      89.0\n8           Half-Life: Blue Shift                      90.0\n9                     Half-Life 2                      97.0",
      "text/html": "<div>\n<style scoped>\n    .dataframe tbody tr th:only-of-type {\n        vertical-align: middle;\n    }\n\n    .dataframe tbody tr th {\n        vertical-align: top;\n    }\n\n    .dataframe thead th {\n        text-align: right;\n    }\n</style>\n<table border=\"1\" class=\"dataframe\">\n  <thead>\n    <tr style=\"text-align: right;\">\n      <th></th>\n      <th>name</th>\n      <th>percent_positive_reviews</th>\n    </tr>\n  </thead>\n  <tbody>\n    <tr>\n      <th>0</th>\n      <td>Counter-Strike</td>\n      <td>97.0</td>\n    </tr>\n    <tr>\n      <th>1</th>\n      <td>Team Fortress Classic</td>\n      <td>84.0</td>\n    </tr>\n    <tr>\n      <th>2</th>\n      <td>Day of Defeat</td>\n      <td>90.0</td>\n    </tr>\n    <tr>\n      <th>3</th>\n      <td>Deathmatch Classic</td>\n      <td>83.0</td>\n    </tr>\n    <tr>\n      <th>4</th>\n      <td>Half-Life: Opposing Force</td>\n      <td>95.0</td>\n    </tr>\n    <tr>\n      <th>5</th>\n      <td>Ricochet</td>\n      <td>80.0</td>\n    </tr>\n    <tr>\n      <th>6</th>\n      <td>Half-Life</td>\n      <td>96.0</td>\n    </tr>\n    <tr>\n      <th>7</th>\n      <td>Counter-Strike: Condition Zero</td>\n      <td>89.0</td>\n    </tr>\n    <tr>\n      <th>8</th>\n      <td>Half-Life: Blue Shift</td>\n      <td>90.0</td>\n    </tr>\n    <tr>\n      <th>9</th>\n      <td>Half-Life 2</td>\n      <td>97.0</td>\n    </tr>\n  </tbody>\n</table>\n</div>"
     },
     "metadata": {},
     "execution_count": 11
    }
   ],
   "source": [
    "# Review updated ratings \n",
    "games_features.head(10)"
   ]
  },
  {
   "cell_type": "code",
   "execution_count": 12,
   "metadata": {},
   "outputs": [],
   "source": [
    "# Export dataframe to user_reviews.csv in main resource folder for use in Popular Tags and Genre csv cleaning. \n",
    "\n",
    "games_features.to_csv(r'../../resources/user_reviews.csv')"
   ]
  }
 ],
 "metadata": {
  "kernelspec": {
   "display_name": "PythonData",
   "language": "python",
   "name": "pythondata"
  },
  "language_info": {
   "codemirror_mode": {
    "name": "ipython",
    "version": 3
   },
   "file_extension": ".py",
   "mimetype": "text/x-python",
   "name": "python",
   "nbconvert_exporter": "python",
   "pygments_lexer": "ipython3",
   "version": "3.7.7-final"
  }
 },
 "nbformat": 4,
 "nbformat_minor": 4
}