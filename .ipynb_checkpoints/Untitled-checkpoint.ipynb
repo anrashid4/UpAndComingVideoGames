{
 "cells": [
  {
   "cell_type": "code",
   "execution_count": null,
   "metadata": {},
   "outputs": [],
   "source": [
    "newly_merged_dataframe = newly_merged_dataframe.rename(columns = {\"1980s\": \"Tag_1980s\"\n",
    "                                                                  ,\"1990s\": \"Tag_1990s\"\n",
    "                                                                  , \"2.5D\": \"Tag_2_5D\", \n",
    "                                                                  \"2D\": \"Tag_2D\",\n",
    "                                                                  \"2D_Fighter\": \"Tag_2D_Fighter\",\n",
    "                                                                  \"3D\": \"Tag_3D\"})"
   ]
  }
 ],
 "metadata": {
  "kernelspec": {
   "display_name": "PythonData",
   "language": "python",
   "name": "pythondata"
  },
  "language_info": {
   "codemirror_mode": {
    "name": "ipython",
    "version": 3
   },
   "file_extension": ".py",
   "mimetype": "text/x-python",
   "name": "python",
   "nbconvert_exporter": "python",
   "pygments_lexer": "ipython3",
   "version": "3.7.7"
  }
 },
 "nbformat": 4,
 "nbformat_minor": 4
}
